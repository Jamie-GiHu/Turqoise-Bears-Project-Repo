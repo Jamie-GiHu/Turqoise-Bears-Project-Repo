{
 "cells": [
  {
   "cell_type": "code",
   "execution_count": 1,
   "metadata": {},
   "outputs": [],
   "source": [
    "import matplotlib.pyplot as plt\n",
    "import pandas as pd\n",
    "import scipy.stats as st\n",
    "import numpy as np\n",
    "from scipy.stats import linregress"
   ]
  },
  {
   "cell_type": "code",
   "execution_count": 2,
   "metadata": {
    "scrolled": true
   },
   "outputs": [
    {
     "data": {
      "text/html": [
       "<div>\n",
       "<style scoped>\n",
       "    .dataframe tbody tr th:only-of-type {\n",
       "        vertical-align: middle;\n",
       "    }\n",
       "\n",
       "    .dataframe tbody tr th {\n",
       "        vertical-align: top;\n",
       "    }\n",
       "\n",
       "    .dataframe thead th {\n",
       "        text-align: right;\n",
       "    }\n",
       "</style>\n",
       "<table border=\"1\" class=\"dataframe\">\n",
       "  <thead>\n",
       "    <tr style=\"text-align: right;\">\n",
       "      <th></th>\n",
       "      <th>OBJECTID</th>\n",
       "      <th>ACCIDENT_DATE</th>\n",
       "      <th>ACCIDENT_TIME</th>\n",
       "      <th>ALCOHOLTIME</th>\n",
       "      <th>ACCIDENT_TYPE</th>\n",
       "      <th>DAY_OF_WEEK</th>\n",
       "      <th>LIGHT_CONDITION</th>\n",
       "      <th>ROAD_GEOMETRY</th>\n",
       "      <th>SEVERITY</th>\n",
       "      <th>SPEED_ZONE</th>\n",
       "      <th>...</th>\n",
       "      <th>YOUNG_DRIVER</th>\n",
       "      <th>ALCOHOL_RELATED</th>\n",
       "      <th>UNLICENCSED</th>\n",
       "      <th>NO_OF_VEHICLES</th>\n",
       "      <th>HEAVYVEHICLE</th>\n",
       "      <th>PASSENGERVEHICLE</th>\n",
       "      <th>MOTORCYCLE</th>\n",
       "      <th>PUBLICVEHICLE</th>\n",
       "      <th>RMA</th>\n",
       "      <th>STAT_DIV_NAME</th>\n",
       "    </tr>\n",
       "  </thead>\n",
       "  <tbody>\n",
       "    <tr>\n",
       "      <th>0</th>\n",
       "      <td>3401744</td>\n",
       "      <td>1/07/2013</td>\n",
       "      <td>18.30.00</td>\n",
       "      <td>Yes</td>\n",
       "      <td>Struck Pedestrian</td>\n",
       "      <td>Monday</td>\n",
       "      <td>Dark Street lights on</td>\n",
       "      <td>Not at intersection</td>\n",
       "      <td>Serious injury accident</td>\n",
       "      <td>60 km/hr</td>\n",
       "      <td>...</td>\n",
       "      <td>0</td>\n",
       "      <td>No</td>\n",
       "      <td>0</td>\n",
       "      <td>1</td>\n",
       "      <td>0</td>\n",
       "      <td>1</td>\n",
       "      <td>0</td>\n",
       "      <td>0</td>\n",
       "      <td>Local Road</td>\n",
       "      <td>Metro</td>\n",
       "    </tr>\n",
       "    <tr>\n",
       "      <th>1</th>\n",
       "      <td>3401745</td>\n",
       "      <td>2/07/2013</td>\n",
       "      <td>16.40.00</td>\n",
       "      <td>No</td>\n",
       "      <td>Collision with vehicle</td>\n",
       "      <td>Tuesday</td>\n",
       "      <td>Day</td>\n",
       "      <td>T intersection</td>\n",
       "      <td>Serious injury accident</td>\n",
       "      <td>60 km/hr</td>\n",
       "      <td>...</td>\n",
       "      <td>0</td>\n",
       "      <td>No</td>\n",
       "      <td>0</td>\n",
       "      <td>3</td>\n",
       "      <td>0</td>\n",
       "      <td>3</td>\n",
       "      <td>0</td>\n",
       "      <td>0</td>\n",
       "      <td>Arterial Other</td>\n",
       "      <td>Metro</td>\n",
       "    </tr>\n",
       "    <tr>\n",
       "      <th>2</th>\n",
       "      <td>3401746</td>\n",
       "      <td>2/07/2013</td>\n",
       "      <td>13.15.00</td>\n",
       "      <td>No</td>\n",
       "      <td>Collision with a fixed object</td>\n",
       "      <td>Tuesday</td>\n",
       "      <td>Day</td>\n",
       "      <td>T intersection</td>\n",
       "      <td>Serious injury accident</td>\n",
       "      <td>50 km/hr</td>\n",
       "      <td>...</td>\n",
       "      <td>0</td>\n",
       "      <td>Yes</td>\n",
       "      <td>0</td>\n",
       "      <td>1</td>\n",
       "      <td>0</td>\n",
       "      <td>1</td>\n",
       "      <td>0</td>\n",
       "      <td>0</td>\n",
       "      <td>Local Road</td>\n",
       "      <td>Metro</td>\n",
       "    </tr>\n",
       "    <tr>\n",
       "      <th>3</th>\n",
       "      <td>3401747</td>\n",
       "      <td>2/07/2013</td>\n",
       "      <td>16.45.00</td>\n",
       "      <td>No</td>\n",
       "      <td>Collision with a fixed object</td>\n",
       "      <td>Tuesday</td>\n",
       "      <td>Day</td>\n",
       "      <td>Not at intersection</td>\n",
       "      <td>Serious injury accident</td>\n",
       "      <td>110 km/hr</td>\n",
       "      <td>...</td>\n",
       "      <td>0</td>\n",
       "      <td>No</td>\n",
       "      <td>0</td>\n",
       "      <td>1</td>\n",
       "      <td>0</td>\n",
       "      <td>1</td>\n",
       "      <td>0</td>\n",
       "      <td>0</td>\n",
       "      <td>Freeway</td>\n",
       "      <td>Country</td>\n",
       "    </tr>\n",
       "    <tr>\n",
       "      <th>4</th>\n",
       "      <td>3401748</td>\n",
       "      <td>2/07/2013</td>\n",
       "      <td>15.48.00</td>\n",
       "      <td>No</td>\n",
       "      <td>Collision with vehicle</td>\n",
       "      <td>Tuesday</td>\n",
       "      <td>Day</td>\n",
       "      <td>Not at intersection</td>\n",
       "      <td>Other injury accident</td>\n",
       "      <td>50 km/hr</td>\n",
       "      <td>...</td>\n",
       "      <td>0</td>\n",
       "      <td>No</td>\n",
       "      <td>0</td>\n",
       "      <td>2</td>\n",
       "      <td>0</td>\n",
       "      <td>1</td>\n",
       "      <td>0</td>\n",
       "      <td>1</td>\n",
       "      <td>Local Road</td>\n",
       "      <td>Metro</td>\n",
       "    </tr>\n",
       "  </tbody>\n",
       "</table>\n",
       "<p>5 rows × 47 columns</p>\n",
       "</div>"
      ],
      "text/plain": [
       "   OBJECTID ACCIDENT_DATE ACCIDENT_TIME ALCOHOLTIME  \\\n",
       "0   3401744     1/07/2013      18.30.00         Yes   \n",
       "1   3401745     2/07/2013      16.40.00          No   \n",
       "2   3401746     2/07/2013      13.15.00          No   \n",
       "3   3401747     2/07/2013      16.45.00          No   \n",
       "4   3401748     2/07/2013      15.48.00          No   \n",
       "\n",
       "                   ACCIDENT_TYPE DAY_OF_WEEK        LIGHT_CONDITION  \\\n",
       "0              Struck Pedestrian      Monday  Dark Street lights on   \n",
       "1         Collision with vehicle     Tuesday                    Day   \n",
       "2  Collision with a fixed object     Tuesday                    Day   \n",
       "3  Collision with a fixed object     Tuesday                    Day   \n",
       "4         Collision with vehicle     Tuesday                    Day   \n",
       "\n",
       "         ROAD_GEOMETRY                 SEVERITY SPEED_ZONE  ...  YOUNG_DRIVER  \\\n",
       "0  Not at intersection  Serious injury accident   60 km/hr  ...             0   \n",
       "1       T intersection  Serious injury accident   60 km/hr  ...             0   \n",
       "2       T intersection  Serious injury accident   50 km/hr  ...             0   \n",
       "3  Not at intersection  Serious injury accident  110 km/hr  ...             0   \n",
       "4  Not at intersection    Other injury accident   50 km/hr  ...             0   \n",
       "\n",
       "   ALCOHOL_RELATED  UNLICENCSED NO_OF_VEHICLES HEAVYVEHICLE PASSENGERVEHICLE  \\\n",
       "0               No            0              1            0                1   \n",
       "1               No            0              3            0                3   \n",
       "2              Yes            0              1            0                1   \n",
       "3               No            0              1            0                1   \n",
       "4               No            0              2            0                1   \n",
       "\n",
       "   MOTORCYCLE  PUBLICVEHICLE             RMA  STAT_DIV_NAME  \n",
       "0           0              0      Local Road          Metro  \n",
       "1           0              0  Arterial Other          Metro  \n",
       "2           0              0      Local Road          Metro  \n",
       "3           0              0         Freeway        Country  \n",
       "4           0              1      Local Road          Metro  \n",
       "\n",
       "[5 rows x 47 columns]"
      ]
     },
     "execution_count": 2,
     "metadata": {},
     "output_type": "execute_result"
    }
   ],
   "source": [
    "# Read into csv file\n",
    "crash_data = pd.read_csv(\"Resources/Crash_Statistics_Victoria_clean.csv\")\n",
    "crash_data.head()"
   ]
  },
  {
   "cell_type": "code",
   "execution_count": 30,
   "metadata": {},
   "outputs": [
    {
     "data": {
      "text/plain": [
       "(60510, 47)"
      ]
     },
     "execution_count": 30,
     "metadata": {},
     "output_type": "execute_result"
    }
   ],
   "source": [
    "#check dimensions\n",
    "crash_data.shape"
   ]
  },
  {
   "cell_type": "code",
   "execution_count": 4,
   "metadata": {},
   "outputs": [],
   "source": [
    "# Dropping Unnecessary information\n",
    "indexNames = crash_data[crash_data['SPEED_ZONE'] == \"Camping grounds or off road\"].index\n",
    "crash_data.drop(indexNames , inplace=True)"
   ]
  },
  {
   "cell_type": "code",
   "execution_count": 5,
   "metadata": {},
   "outputs": [],
   "source": [
    "indexNames = crash_data[crash_data['SPEED_ZONE'] == \"Not known\"].index\n",
    "crash_data.drop(indexNames , inplace=True)"
   ]
  },
  {
   "cell_type": "code",
   "execution_count": 6,
   "metadata": {},
   "outputs": [],
   "source": [
    "indexNames = crash_data[crash_data['SPEED_ZONE'] == \"Other speed limit\"].index\n",
    "crash_data.drop(indexNames , inplace=True)"
   ]
  },
  {
   "cell_type": "code",
   "execution_count": 29,
   "metadata": {},
   "outputs": [],
   "source": [
    "indexNames = crash_data[crash_data['SPEED_ZONE'] == '75 km/hr'].index\n",
    "crash_data.drop(indexNames , inplace=True)"
   ]
  },
  {
   "cell_type": "code",
   "execution_count": 26,
   "metadata": {},
   "outputs": [],
   "source": [
    "indexNames = crash_data[crash_data['LIGHT_CONDITION'] == 'Dark Street lights unknown'].index\n",
    "crash_data.drop(indexNames , inplace=True)"
   ]
  },
  {
   "cell_type": "code",
   "execution_count": 56,
   "metadata": {},
   "outputs": [],
   "source": [
    "indexNames = crash_data[crash_data['LIGHT_CONDITION'] == 'Unk.'].index\n",
    "crash_data.drop(indexNames , inplace=True)"
   ]
  },
  {
   "cell_type": "code",
   "execution_count": 53,
   "metadata": {},
   "outputs": [],
   "source": [
    "# Removing symbol to convert column to interger\n",
    "crash_data =crash_data.replace(to_replace='km/hr', value='', regex=True)"
   ]
  },
  {
   "cell_type": "code",
   "execution_count": 54,
   "metadata": {},
   "outputs": [],
   "source": [
    "# Changing type to integer for sorting \n",
    "crash_data['SPEED_ZONE'] = crash_data['SPEED_ZONE'].astype(int)"
   ]
  },
  {
   "cell_type": "code",
   "execution_count": 41,
   "metadata": {},
   "outputs": [],
   "source": [
    "# Calculating number of accidents per speed limit\n",
    "crash = crash_data.groupby([\"SPEED_ZONE\"])\n",
    "crash = crash_data.groupby([\"SPEED_ZONE\"]).count()\n",
    "crash =crash['OBJECTID']"
   ]
  },
  {
   "cell_type": "code",
   "execution_count": 42,
   "metadata": {},
   "outputs": [
    {
     "data": {
      "image/png": "[encoded data removed]",
      "text/plain": [
       "<Figure size 432x288 with 1 Axes>"
      ]
     },
     "metadata": {
      "needs_background": "light"
     },
     "output_type": "display_data"
    },
    {
     "data": {
      "text/plain": [
       "<Figure size 432x288 with 0 Axes>"
      ]
     },
     "metadata": {},
     "output_type": "display_data"
    }
   ],
   "source": [
    "# Plotting crash data\n",
    "speed_chart = crash.plot(kind=\"bar\", title=\"Number of accidents per speed limit\")\n",
    "speed_chart.set_xlabel(\"Speed limit Km/hr\")\n",
    "speed_chart.set_ylabel(\"Number of accidents\")\n",
    "plt.show()\n",
    "plt.tight_layout()"
   ]
  },
  {
   "cell_type": "code",
   "execution_count": 43,
   "metadata": {},
   "outputs": [
    {
     "data": {
      "text/html": [
       "<div>\n",
       "<style scoped>\n",
       "    .dataframe tbody tr th:only-of-type {\n",
       "        vertical-align: middle;\n",
       "    }\n",
       "\n",
       "    .dataframe tbody tr th {\n",
       "        vertical-align: top;\n",
       "    }\n",
       "\n",
       "    .dataframe thead th {\n",
       "        text-align: right;\n",
       "    }\n",
       "</style>\n",
       "<table border=\"1\" class=\"dataframe\">\n",
       "  <thead>\n",
       "    <tr style=\"text-align: right;\">\n",
       "      <th></th>\n",
       "      <th></th>\n",
       "      <th>SEVERITY</th>\n",
       "    </tr>\n",
       "    <tr>\n",
       "      <th>SPEED_ZONE</th>\n",
       "      <th>SEVERITY</th>\n",
       "      <th></th>\n",
       "    </tr>\n",
       "  </thead>\n",
       "  <tbody>\n",
       "    <tr>\n",
       "      <th rowspan=\"2\" valign=\"top\">30</th>\n",
       "      <th>Other injury accident</th>\n",
       "      <td>68</td>\n",
       "    </tr>\n",
       "    <tr>\n",
       "      <th>Serious injury accident</th>\n",
       "      <td>29</td>\n",
       "    </tr>\n",
       "    <tr>\n",
       "      <th rowspan=\"3\" valign=\"top\">40</th>\n",
       "      <th>Other injury accident</th>\n",
       "      <td>2752</td>\n",
       "    </tr>\n",
       "    <tr>\n",
       "      <th>Serious injury accident</th>\n",
       "      <td>911</td>\n",
       "    </tr>\n",
       "    <tr>\n",
       "      <th>Fatal accident</th>\n",
       "      <td>20</td>\n",
       "    </tr>\n",
       "    <tr>\n",
       "      <th rowspan=\"3\" valign=\"top\">50</th>\n",
       "      <th>Other injury accident</th>\n",
       "      <td>7631</td>\n",
       "    </tr>\n",
       "    <tr>\n",
       "      <th>Serious injury accident</th>\n",
       "      <td>2956</td>\n",
       "    </tr>\n",
       "    <tr>\n",
       "      <th>Fatal accident</th>\n",
       "      <td>85</td>\n",
       "    </tr>\n",
       "    <tr>\n",
       "      <th rowspan=\"3\" valign=\"top\">60</th>\n",
       "      <th>Other injury accident</th>\n",
       "      <td>15770</td>\n",
       "    </tr>\n",
       "    <tr>\n",
       "      <th>Serious injury accident</th>\n",
       "      <td>5707</td>\n",
       "    </tr>\n",
       "    <tr>\n",
       "      <th>Fatal accident</th>\n",
       "      <td>213</td>\n",
       "    </tr>\n",
       "    <tr>\n",
       "      <th rowspan=\"3\" valign=\"top\">70</th>\n",
       "      <th>Other injury accident</th>\n",
       "      <td>3074</td>\n",
       "    </tr>\n",
       "    <tr>\n",
       "      <th>Serious injury accident</th>\n",
       "      <td>1237</td>\n",
       "    </tr>\n",
       "    <tr>\n",
       "      <th>Fatal accident</th>\n",
       "      <td>73</td>\n",
       "    </tr>\n",
       "    <tr>\n",
       "      <th rowspan=\"3\" valign=\"top\">80</th>\n",
       "      <th>Other injury accident</th>\n",
       "      <td>6110</td>\n",
       "    </tr>\n",
       "    <tr>\n",
       "      <th>Serious injury accident</th>\n",
       "      <td>2853</td>\n",
       "    </tr>\n",
       "    <tr>\n",
       "      <th>Fatal accident</th>\n",
       "      <td>169</td>\n",
       "    </tr>\n",
       "    <tr>\n",
       "      <th rowspan=\"3\" valign=\"top\">90</th>\n",
       "      <th>Other injury accident</th>\n",
       "      <td>131</td>\n",
       "    </tr>\n",
       "    <tr>\n",
       "      <th>Serious injury accident</th>\n",
       "      <td>84</td>\n",
       "    </tr>\n",
       "    <tr>\n",
       "      <th>Fatal accident</th>\n",
       "      <td>11</td>\n",
       "    </tr>\n",
       "    <tr>\n",
       "      <th rowspan=\"3\" valign=\"top\">100</th>\n",
       "      <th>Other injury accident</th>\n",
       "      <td>5526</td>\n",
       "    </tr>\n",
       "    <tr>\n",
       "      <th>Serious injury accident</th>\n",
       "      <td>3893</td>\n",
       "    </tr>\n",
       "    <tr>\n",
       "      <th>Fatal accident</th>\n",
       "      <td>505</td>\n",
       "    </tr>\n",
       "    <tr>\n",
       "      <th rowspan=\"3\" valign=\"top\">110</th>\n",
       "      <th>Other injury accident</th>\n",
       "      <td>374</td>\n",
       "    </tr>\n",
       "    <tr>\n",
       "      <th>Serious injury accident</th>\n",
       "      <td>285</td>\n",
       "    </tr>\n",
       "    <tr>\n",
       "      <th>Fatal accident</th>\n",
       "      <td>43</td>\n",
       "    </tr>\n",
       "  </tbody>\n",
       "</table>\n",
       "</div>"
      ],
      "text/plain": [
       "                                    SEVERITY\n",
       "SPEED_ZONE SEVERITY                         \n",
       "30         Other injury accident          68\n",
       "           Serious injury accident        29\n",
       "40         Other injury accident        2752\n",
       "           Serious injury accident       911\n",
       "           Fatal accident                 20\n",
       "50         Other injury accident        7631\n",
       "           Serious injury accident      2956\n",
       "           Fatal accident                 85\n",
       "60         Other injury accident       15770\n",
       "           Serious injury accident      5707\n",
       "           Fatal accident                213\n",
       "70         Other injury accident        3074\n",
       "           Serious injury accident      1237\n",
       "           Fatal accident                 73\n",
       "80         Other injury accident        6110\n",
       "           Serious injury accident      2853\n",
       "           Fatal accident                169\n",
       "90         Other injury accident         131\n",
       "           Serious injury accident        84\n",
       "           Fatal accident                 11\n",
       "100        Other injury accident        5526\n",
       "           Serious injury accident      3893\n",
       "           Fatal accident                505\n",
       "110        Other injury accident         374\n",
       "           Serious injury accident       285\n",
       "           Fatal accident                 43"
      ]
     },
     "execution_count": 43,
     "metadata": {},
     "output_type": "execute_result"
    }
   ],
   "source": [
    "# Calculate number of accidents in each speed limit as accident type\n",
    "crash = crash_data.groupby([\"SPEED_ZONE\"])\n",
    "crash_count= crash[\"SEVERITY\"].value_counts()\n",
    "crash_type = pd.DataFrame(crash_count)\n",
    "crash_type"
   ]
  },
  {
   "cell_type": "code",
   "execution_count": 44,
   "metadata": {},
   "outputs": [
    {
     "data": {
      "text/plain": [
       "Text(0.5, 0, 'Number of accidents')"
      ]
     },
     "execution_count": 44,
     "metadata": {},
     "output_type": "execute_result"
    },
    {
     "data": {
      "image/png": "[encoded data removed]",
      "text/plain": [
       "<Figure size 1080x576 with 1 Axes>"
      ]
     },
     "metadata": {
      "needs_background": "light"
     },
     "output_type": "display_data"
    }
   ],
   "source": [
    "# Plotting chart showing speed limit to severity\n",
    "c2 = crash_data.groupby([\"SPEED_ZONE\"])\n",
    "crash_count2= crash[\"SEVERITY\"].value_counts().unstack('SEVERITY').fillna(0)\n",
    "c4 = crash_count2.plot(kind='barh', stacked=True, figsize=(15,8), color=['red', 'green', 'orange'])\n",
    "c4.set_ylabel(\"SPEED_ZONE Km/hr\")\n",
    "c4.set_xlabel(\"Number of accidents\")\n"
   ]
  },
  {
   "cell_type": "code",
   "execution_count": 45,
   "metadata": {},
   "outputs": [
    {
     "data": {
      "text/html": [
       "<div>\n",
       "<style scoped>\n",
       "    .dataframe tbody tr th:only-of-type {\n",
       "        vertical-align: middle;\n",
       "    }\n",
       "\n",
       "    .dataframe tbody tr th {\n",
       "        vertical-align: top;\n",
       "    }\n",
       "\n",
       "    .dataframe thead th {\n",
       "        text-align: right;\n",
       "    }\n",
       "</style>\n",
       "<table border=\"1\" class=\"dataframe\">\n",
       "  <thead>\n",
       "    <tr style=\"text-align: right;\">\n",
       "      <th></th>\n",
       "      <th></th>\n",
       "      <th>Total Count</th>\n",
       "    </tr>\n",
       "    <tr>\n",
       "      <th>bins</th>\n",
       "      <th>SEVERITY</th>\n",
       "      <th></th>\n",
       "    </tr>\n",
       "  </thead>\n",
       "  <tbody>\n",
       "    <tr>\n",
       "      <th rowspan=\"3\" valign=\"top\">30-50</th>\n",
       "      <th>Other injury accident</th>\n",
       "      <td>10451</td>\n",
       "    </tr>\n",
       "    <tr>\n",
       "      <th>Serious injury accident</th>\n",
       "      <td>3896</td>\n",
       "    </tr>\n",
       "    <tr>\n",
       "      <th>Fatal accident</th>\n",
       "      <td>105</td>\n",
       "    </tr>\n",
       "    <tr>\n",
       "      <th rowspan=\"3\" valign=\"top\">60-80</th>\n",
       "      <th>Other injury accident</th>\n",
       "      <td>24954</td>\n",
       "    </tr>\n",
       "    <tr>\n",
       "      <th>Serious injury accident</th>\n",
       "      <td>9797</td>\n",
       "    </tr>\n",
       "    <tr>\n",
       "      <th>Fatal accident</th>\n",
       "      <td>455</td>\n",
       "    </tr>\n",
       "    <tr>\n",
       "      <th rowspan=\"3\" valign=\"top\">90-110</th>\n",
       "      <th>Other injury accident</th>\n",
       "      <td>6031</td>\n",
       "    </tr>\n",
       "    <tr>\n",
       "      <th>Serious injury accident</th>\n",
       "      <td>4262</td>\n",
       "    </tr>\n",
       "    <tr>\n",
       "      <th>Fatal accident</th>\n",
       "      <td>559</td>\n",
       "    </tr>\n",
       "  </tbody>\n",
       "</table>\n",
       "</div>"
      ],
      "text/plain": [
       "                                Total Count\n",
       "bins   SEVERITY                            \n",
       "30-50  Other injury accident          10451\n",
       "       Serious injury accident         3896\n",
       "       Fatal accident                   105\n",
       "60-80  Other injury accident          24954\n",
       "       Serious injury accident         9797\n",
       "       Fatal accident                   455\n",
       "90-110 Other injury accident           6031\n",
       "       Serious injury accident         4262\n",
       "       Fatal accident                   559"
      ]
     },
     "execution_count": 45,
     "metadata": {},
     "output_type": "execute_result"
    }
   ],
   "source": [
    "# Used bins to test range rather that each speed limit separately \n",
    "bins = [0,51,81,115]\n",
    "names = [\"30-50\",\"60-80\",\"90-110\"]\n",
    "crash_data[\"bins\"] = pd.DataFrame(pd.cut(crash_data[\"SPEED_ZONE\"], bins, labels=names, include_lowest=True))\n",
    "binsdf = crash_data.groupby([\"bins\"])\n",
    "total_count = binsdf[\"SEVERITY\"].value_counts()\n",
    "uniquesn_bindf = pd.DataFrame({ \"Total Count\": total_count})\n",
    "uniquesn_bindf"
   ]
  },
  {
   "cell_type": "code",
   "execution_count": 46,
   "metadata": {},
   "outputs": [
    {
     "data": {
      "text/html": [
       "<div>\n",
       "<style scoped>\n",
       "    .dataframe tbody tr th:only-of-type {\n",
       "        vertical-align: middle;\n",
       "    }\n",
       "\n",
       "    .dataframe tbody tr th {\n",
       "        vertical-align: top;\n",
       "    }\n",
       "\n",
       "    .dataframe thead th {\n",
       "        text-align: right;\n",
       "    }\n",
       "</style>\n",
       "<table border=\"1\" class=\"dataframe\">\n",
       "  <thead>\n",
       "    <tr style=\"text-align: right;\">\n",
       "      <th></th>\n",
       "      <th></th>\n",
       "      <th>Total Count</th>\n",
       "    </tr>\n",
       "    <tr>\n",
       "      <th>bins</th>\n",
       "      <th>SEVERITY</th>\n",
       "      <th></th>\n",
       "    </tr>\n",
       "  </thead>\n",
       "  <tbody>\n",
       "    <tr>\n",
       "      <th rowspan=\"3\" valign=\"top\">30-50</th>\n",
       "      <th>Other injury accident</th>\n",
       "      <td>72.32%</td>\n",
       "    </tr>\n",
       "    <tr>\n",
       "      <th>Serious injury accident</th>\n",
       "      <td>26.96%</td>\n",
       "    </tr>\n",
       "    <tr>\n",
       "      <th>Fatal accident</th>\n",
       "      <td>0.73%</td>\n",
       "    </tr>\n",
       "    <tr>\n",
       "      <th rowspan=\"3\" valign=\"top\">60-80</th>\n",
       "      <th>Other injury accident</th>\n",
       "      <td>70.88%</td>\n",
       "    </tr>\n",
       "    <tr>\n",
       "      <th>Serious injury accident</th>\n",
       "      <td>27.83%</td>\n",
       "    </tr>\n",
       "    <tr>\n",
       "      <th>Fatal accident</th>\n",
       "      <td>1.29%</td>\n",
       "    </tr>\n",
       "    <tr>\n",
       "      <th rowspan=\"3\" valign=\"top\">90-110</th>\n",
       "      <th>Other injury accident</th>\n",
       "      <td>55.58%</td>\n",
       "    </tr>\n",
       "    <tr>\n",
       "      <th>Serious injury accident</th>\n",
       "      <td>39.27%</td>\n",
       "    </tr>\n",
       "    <tr>\n",
       "      <th>Fatal accident</th>\n",
       "      <td>5.15%</td>\n",
       "    </tr>\n",
       "  </tbody>\n",
       "</table>\n",
       "</div>"
      ],
      "text/plain": [
       "                                Total Count\n",
       "bins   SEVERITY                            \n",
       "30-50  Other injury accident         72.32%\n",
       "       Serious injury accident       26.96%\n",
       "       Fatal accident                 0.73%\n",
       "60-80  Other injury accident         70.88%\n",
       "       Serious injury accident       27.83%\n",
       "       Fatal accident                 1.29%\n",
       "90-110 Other injury accident         55.58%\n",
       "       Serious injury accident       39.27%\n",
       "       Fatal accident                 5.15%"
      ]
     },
     "execution_count": 46,
     "metadata": {},
     "output_type": "execute_result"
    }
   ],
   "source": [
    "# Calculate percentage for plotting 100% bar chart\n",
    "percents_df2 = uniquesn_bindf.groupby(level=0).apply(lambda x: 100 * x / float(x.sum()))\n",
    "pd.options.display.float_format = '{:,.2f}%'.format\n",
    "percents_df2"
   ]
  },
  {
   "cell_type": "code",
   "execution_count": 47,
   "metadata": {},
   "outputs": [
    {
     "data": {
      "text/plain": [
       "<matplotlib.axes._subplots.AxesSubplot at 0x1a235374d0>"
      ]
     },
     "execution_count": 47,
     "metadata": {},
     "output_type": "execute_result"
    },
    {
     "data": {
      "image/png": "[encoded data removed]",
      "text/plain": [
       "<Figure size 1080x576 with 1 Axes>"
      ]
     },
     "metadata": {
      "needs_background": "light"
     },
     "output_type": "display_data"
    }
   ],
   "source": [
    "percents_df2.unstack().plot.barh(stacked=True, figsize=(15,8), color=['red', 'green', 'orange'])"
   ]
  },
  {
   "cell_type": "code",
   "execution_count": 57,
   "metadata": {},
   "outputs": [
    {
     "data": {
      "text/html": [
       "<div>\n",
       "<style scoped>\n",
       "    .dataframe tbody tr th:only-of-type {\n",
       "        vertical-align: middle;\n",
       "    }\n",
       "\n",
       "    .dataframe tbody tr th {\n",
       "        vertical-align: top;\n",
       "    }\n",
       "\n",
       "    .dataframe thead th {\n",
       "        text-align: right;\n",
       "    }\n",
       "</style>\n",
       "<table border=\"1\" class=\"dataframe\">\n",
       "  <thead>\n",
       "    <tr style=\"text-align: right;\">\n",
       "      <th></th>\n",
       "      <th></th>\n",
       "      <th>SEVERITY</th>\n",
       "    </tr>\n",
       "    <tr>\n",
       "      <th>LIGHT_CONDITION</th>\n",
       "      <th>SEVERITY</th>\n",
       "      <th></th>\n",
       "    </tr>\n",
       "  </thead>\n",
       "  <tbody>\n",
       "    <tr>\n",
       "      <th rowspan=\"3\" valign=\"top\">Dark No street lights</th>\n",
       "      <th>Other injury accident</th>\n",
       "      <td>1796</td>\n",
       "    </tr>\n",
       "    <tr>\n",
       "      <th>Serious injury accident</th>\n",
       "      <td>1369</td>\n",
       "    </tr>\n",
       "    <tr>\n",
       "      <th>Fatal accident</th>\n",
       "      <td>197</td>\n",
       "    </tr>\n",
       "    <tr>\n",
       "      <th rowspan=\"3\" valign=\"top\">Dark Street lights off</th>\n",
       "      <th>Other injury accident</th>\n",
       "      <td>90</td>\n",
       "    </tr>\n",
       "    <tr>\n",
       "      <th>Serious injury accident</th>\n",
       "      <td>39</td>\n",
       "    </tr>\n",
       "    <tr>\n",
       "      <th>Fatal accident</th>\n",
       "      <td>6</td>\n",
       "    </tr>\n",
       "    <tr>\n",
       "      <th rowspan=\"3\" valign=\"top\">Dark Street lights on</th>\n",
       "      <th>Other injury accident</th>\n",
       "      <td>6215</td>\n",
       "    </tr>\n",
       "    <tr>\n",
       "      <th>Serious injury accident</th>\n",
       "      <td>3183</td>\n",
       "    </tr>\n",
       "    <tr>\n",
       "      <th>Fatal accident</th>\n",
       "      <td>171</td>\n",
       "    </tr>\n",
       "    <tr>\n",
       "      <th rowspan=\"3\" valign=\"top\">Day</th>\n",
       "      <th>Other injury accident</th>\n",
       "      <td>27619</td>\n",
       "    </tr>\n",
       "    <tr>\n",
       "      <th>Serious injury accident</th>\n",
       "      <td>11201</td>\n",
       "    </tr>\n",
       "    <tr>\n",
       "      <th>Fatal accident</th>\n",
       "      <td>641</td>\n",
       "    </tr>\n",
       "    <tr>\n",
       "      <th rowspan=\"3\" valign=\"top\">Dusk/Dawn</th>\n",
       "      <th>Other injury accident</th>\n",
       "      <td>4792</td>\n",
       "    </tr>\n",
       "    <tr>\n",
       "      <th>Serious injury accident</th>\n",
       "      <td>2003</td>\n",
       "    </tr>\n",
       "    <tr>\n",
       "      <th>Fatal accident</th>\n",
       "      <td>96</td>\n",
       "    </tr>\n",
       "  </tbody>\n",
       "</table>\n",
       "</div>"
      ],
      "text/plain": [
       "                                                SEVERITY\n",
       "LIGHT_CONDITION        SEVERITY                         \n",
       "Dark No street lights  Other injury accident        1796\n",
       "                       Serious injury accident      1369\n",
       "                       Fatal accident                197\n",
       "Dark Street lights off Other injury accident          90\n",
       "                       Serious injury accident        39\n",
       "                       Fatal accident                  6\n",
       "Dark Street lights on  Other injury accident        6215\n",
       "                       Serious injury accident      3183\n",
       "                       Fatal accident                171\n",
       "Day                    Other injury accident       27619\n",
       "                       Serious injury accident     11201\n",
       "                       Fatal accident                641\n",
       "Dusk/Dawn              Other injury accident        4792\n",
       "                       Serious injury accident      2003\n",
       "                       Fatal accident                 96"
      ]
     },
     "execution_count": 57,
     "metadata": {},
     "output_type": "execute_result"
    }
   ],
   "source": [
    "# Calculate number of accidents in each speed limit as light condition\n",
    "crash = crash_data.groupby([\"LIGHT_CONDITION\"])\n",
    "crash_count= crash[\"SEVERITY\"].value_counts()\n",
    "c = pd.DataFrame(crash_count)\n",
    "c"
   ]
  },
  {
   "cell_type": "code",
   "execution_count": 58,
   "metadata": {},
   "outputs": [
    {
     "data": {
      "text/plain": [
       "Text(0.5, 0, 'Number of accidents')"
      ]
     },
     "execution_count": 58,
     "metadata": {},
     "output_type": "execute_result"
    },
    {
     "data": {
      "image/png": "[encoded data removed]",
      "text/plain": [
       "<Figure size 1080x576 with 1 Axes>"
      ]
     },
     "metadata": {
      "needs_background": "light"
     },
     "output_type": "display_data"
    }
   ],
   "source": [
    "# # Plotting chart showing light condition to severity\n",
    "\n",
    "c5 = crash_data.groupby([\"LIGHT_CONDITION\"])\n",
    "crash_count5= c5[\"SEVERITY\"].value_counts().unstack('SEVERITY').fillna(0)\n",
    "c6 = crash_count5.plot(kind='barh', stacked=True, figsize=(15,8), color=['red', 'green', 'orange'])\n",
    "c6.set_ylabel(\"LIGHT CONDITION\")\n",
    "c6.set_xlabel(\"Number of accidents\") "
   ]
  },
  {
   "cell_type": "code",
   "execution_count": 59,
   "metadata": {},
   "outputs": [
    {
     "data": {
      "text/html": [
       "<div>\n",
       "<style scoped>\n",
       "    .dataframe tbody tr th:only-of-type {\n",
       "        vertical-align: middle;\n",
       "    }\n",
       "\n",
       "    .dataframe tbody tr th {\n",
       "        vertical-align: top;\n",
       "    }\n",
       "\n",
       "    .dataframe thead th {\n",
       "        text-align: right;\n",
       "    }\n",
       "</style>\n",
       "<table border=\"1\" class=\"dataframe\">\n",
       "  <thead>\n",
       "    <tr style=\"text-align: right;\">\n",
       "      <th></th>\n",
       "      <th></th>\n",
       "      <th>SEVERITY</th>\n",
       "    </tr>\n",
       "    <tr>\n",
       "      <th>LIGHT_CONDITION</th>\n",
       "      <th>SEVERITY</th>\n",
       "      <th></th>\n",
       "    </tr>\n",
       "  </thead>\n",
       "  <tbody>\n",
       "    <tr>\n",
       "      <th rowspan=\"3\" valign=\"top\">Dark No street lights</th>\n",
       "      <th>Other injury accident</th>\n",
       "      <td>53.42%</td>\n",
       "    </tr>\n",
       "    <tr>\n",
       "      <th>Serious injury accident</th>\n",
       "      <td>40.72%</td>\n",
       "    </tr>\n",
       "    <tr>\n",
       "      <th>Fatal accident</th>\n",
       "      <td>5.86%</td>\n",
       "    </tr>\n",
       "    <tr>\n",
       "      <th rowspan=\"3\" valign=\"top\">Dark Street lights off</th>\n",
       "      <th>Other injury accident</th>\n",
       "      <td>66.67%</td>\n",
       "    </tr>\n",
       "    <tr>\n",
       "      <th>Serious injury accident</th>\n",
       "      <td>28.89%</td>\n",
       "    </tr>\n",
       "    <tr>\n",
       "      <th>Fatal accident</th>\n",
       "      <td>4.44%</td>\n",
       "    </tr>\n",
       "    <tr>\n",
       "      <th rowspan=\"3\" valign=\"top\">Dark Street lights on</th>\n",
       "      <th>Other injury accident</th>\n",
       "      <td>64.95%</td>\n",
       "    </tr>\n",
       "    <tr>\n",
       "      <th>Serious injury accident</th>\n",
       "      <td>33.26%</td>\n",
       "    </tr>\n",
       "    <tr>\n",
       "      <th>Fatal accident</th>\n",
       "      <td>1.79%</td>\n",
       "    </tr>\n",
       "    <tr>\n",
       "      <th rowspan=\"3\" valign=\"top\">Day</th>\n",
       "      <th>Other injury accident</th>\n",
       "      <td>69.99%</td>\n",
       "    </tr>\n",
       "    <tr>\n",
       "      <th>Serious injury accident</th>\n",
       "      <td>28.38%</td>\n",
       "    </tr>\n",
       "    <tr>\n",
       "      <th>Fatal accident</th>\n",
       "      <td>1.62%</td>\n",
       "    </tr>\n",
       "    <tr>\n",
       "      <th rowspan=\"3\" valign=\"top\">Dusk/Dawn</th>\n",
       "      <th>Other injury accident</th>\n",
       "      <td>69.54%</td>\n",
       "    </tr>\n",
       "    <tr>\n",
       "      <th>Serious injury accident</th>\n",
       "      <td>29.07%</td>\n",
       "    </tr>\n",
       "    <tr>\n",
       "      <th>Fatal accident</th>\n",
       "      <td>1.39%</td>\n",
       "    </tr>\n",
       "  </tbody>\n",
       "</table>\n",
       "</div>"
      ],
      "text/plain": [
       "                                                SEVERITY\n",
       "LIGHT_CONDITION        SEVERITY                         \n",
       "Dark No street lights  Other injury accident      53.42%\n",
       "                       Serious injury accident    40.72%\n",
       "                       Fatal accident              5.86%\n",
       "Dark Street lights off Other injury accident      66.67%\n",
       "                       Serious injury accident    28.89%\n",
       "                       Fatal accident              4.44%\n",
       "Dark Street lights on  Other injury accident      64.95%\n",
       "                       Serious injury accident    33.26%\n",
       "                       Fatal accident              1.79%\n",
       "Day                    Other injury accident      69.99%\n",
       "                       Serious injury accident    28.38%\n",
       "                       Fatal accident              1.62%\n",
       "Dusk/Dawn              Other injury accident      69.54%\n",
       "                       Serious injury accident    29.07%\n",
       "                       Fatal accident              1.39%"
      ]
     },
     "execution_count": 59,
     "metadata": {},
     "output_type": "execute_result"
    }
   ],
   "source": [
    "# Calculate percentage for plotting 100% bar chart\n",
    "percents_df = c.groupby(level=0).apply(lambda x: 100 * x / float(x.sum()))\n",
    "pd.options.display.float_format = '{:,.2f}%'.format\n",
    "percents_df"
   ]
  },
  {
   "cell_type": "code",
   "execution_count": 60,
   "metadata": {},
   "outputs": [
    {
     "data": {
      "text/plain": [
       "<matplotlib.axes._subplots.AxesSubplot at 0x1a235b6950>"
      ]
     },
     "execution_count": 60,
     "metadata": {},
     "output_type": "execute_result"
    },
    {
     "data": {
      "image/png": "[encoded data removed]",
      "text/plain": [
       "<Figure size 1080x576 with 1 Axes>"
      ]
     },
     "metadata": {
      "needs_background": "light"
     },
     "output_type": "display_data"
    }
   ],
   "source": [
    "percents_df.unstack().plot.barh(stacked=True, figsize=(15,8), color=['red', 'green', 'orange'])"
   ]
  },
  {
   "cell_type": "code",
   "execution_count": null,
   "metadata": {},
   "outputs": [],
   "source": []
  },
  {
   "cell_type": "code",
   "execution_count": null,
   "metadata": {},
   "outputs": [],
   "source": []
  },
  {
   "cell_type": "code",
   "execution_count": null,
   "metadata": {},
   "outputs": [],
   "source": []
  }
 ],
 "metadata": {
  "kernelspec": {
   "display_name": "Python 3",
   "language": "python",
   "name": "python3"
  },
  "language_info": {
   "codemirror_mode": {
    "name": "ipython",
    "version": 3
   },
   "file_extension": ".py",
   "mimetype": "text/x-python",
   "name": "python",
   "nbconvert_exporter": "python",
   "pygments_lexer": "ipython3",
   "version": "3.7.6"
  }
 },
 "nbformat": 4,
 "nbformat_minor": 4
}
